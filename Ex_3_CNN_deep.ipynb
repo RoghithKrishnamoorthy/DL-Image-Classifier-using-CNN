{
  "cells": [
    {
      "cell_type": "markdown",
      "source": [
        "ROGHITH K\n",
        "\n",
        "212222040135"
      ],
      "metadata": {
        "id": "9phdo0ozZsCQ"
      },
      "id": "9phdo0ozZsCQ"
    },
    {
      "cell_type": "code",
      "execution_count": 3,
      "id": "57ffbbac-9f94-453f-973f-3a9b7c73feba",
      "metadata": {
        "id": "57ffbbac-9f94-453f-973f-3a9b7c73feba"
      },
      "outputs": [],
      "source": [
        "import torch\n",
        "import torch.nn as nn\n",
        "import torch.nn.functional as F\n",
        "from torch.utils.data import DataLoader\n",
        "from torchvision import datasets, transforms\n",
        "from torchvision.utils import make_grid\n",
        "\n",
        "import numpy as np\n",
        "import pandas as pd\n",
        "from sklearn.metrics import confusion_matrix\n",
        "import matplotlib.pyplot as plt\n",
        "%matplotlib inline"
      ]
    },
    {
      "cell_type": "code",
      "execution_count": 4,
      "id": "cca8435e-bb16-4685-9979-6f952cedcf05",
      "metadata": {
        "id": "cca8435e-bb16-4685-9979-6f952cedcf05"
      },
      "outputs": [],
      "source": [
        "transform = transforms.ToTensor()"
      ]
    },
    {
      "cell_type": "code",
      "execution_count": 5,
      "id": "7848dc6b-cce5-4549-b409-ce0ab71f9f3a",
      "metadata": {
        "colab": {
          "base_uri": "https://localhost:8080/"
        },
        "id": "7848dc6b-cce5-4549-b409-ce0ab71f9f3a",
        "outputId": "624932ac-f60d-42f4-f080-0072799ba470"
      },
      "outputs": [
        {
          "output_type": "stream",
          "name": "stderr",
          "text": [
            "100%|██████████| 9.91M/9.91M [00:00<00:00, 17.3MB/s]\n",
            "100%|██████████| 28.9k/28.9k [00:00<00:00, 478kB/s]\n",
            "100%|██████████| 1.65M/1.65M [00:00<00:00, 3.80MB/s]\n",
            "100%|██████████| 4.54k/4.54k [00:00<00:00, 6.79MB/s]\n"
          ]
        }
      ],
      "source": [
        "train_data = datasets.MNIST(root='../Data', train=True, download=True, transform=transform)"
      ]
    },
    {
      "cell_type": "code",
      "execution_count": 6,
      "id": "aa3d0c36-3798-42f8-9213-5ec1d3068279",
      "metadata": {
        "id": "aa3d0c36-3798-42f8-9213-5ec1d3068279"
      },
      "outputs": [],
      "source": [
        "test_data = datasets.MNIST(root='../Data', train=False, download=True, transform=transform)"
      ]
    },
    {
      "cell_type": "code",
      "execution_count": 7,
      "id": "d81a902c-a21e-45e8-aaa1-56549c07d833",
      "metadata": {
        "colab": {
          "base_uri": "https://localhost:8080/"
        },
        "id": "d81a902c-a21e-45e8-aaa1-56549c07d833",
        "outputId": "a0413904-02f0-445a-8dd4-0b5b1f28d666"
      },
      "outputs": [
        {
          "output_type": "execute_result",
          "data": {
            "text/plain": [
              "Dataset MNIST\n",
              "    Number of datapoints: 60000\n",
              "    Root location: ../Data\n",
              "    Split: Train\n",
              "    StandardTransform\n",
              "Transform: ToTensor()"
            ]
          },
          "metadata": {},
          "execution_count": 7
        }
      ],
      "source": [
        "train_data"
      ]
    },
    {
      "cell_type": "code",
      "execution_count": 8,
      "id": "680a6f00-bf93-4094-bc15-fe25eb3ebe5c",
      "metadata": {
        "colab": {
          "base_uri": "https://localhost:8080/"
        },
        "id": "680a6f00-bf93-4094-bc15-fe25eb3ebe5c",
        "outputId": "de97ea67-ffbb-4943-8747-6980f5af5b40"
      },
      "outputs": [
        {
          "output_type": "execute_result",
          "data": {
            "text/plain": [
              "Dataset MNIST\n",
              "    Number of datapoints: 10000\n",
              "    Root location: ../Data\n",
              "    Split: Test\n",
              "    StandardTransform\n",
              "Transform: ToTensor()"
            ]
          },
          "metadata": {},
          "execution_count": 8
        }
      ],
      "source": [
        "test_data"
      ]
    },
    {
      "cell_type": "code",
      "execution_count": 9,
      "id": "c56d0f4b-b2b2-4970-9a2a-fb0636d41f3b",
      "metadata": {
        "id": "c56d0f4b-b2b2-4970-9a2a-fb0636d41f3b"
      },
      "outputs": [],
      "source": [
        "train_loader = DataLoader(train_data, batch_size=10, shuffle=True)\n",
        "test_loader = DataLoader(test_data, batch_size=10, shuffle=False)"
      ]
    },
    {
      "cell_type": "code",
      "execution_count": 10,
      "id": "c5ca464d-64eb-4040-b9d9-b93324f9e1a6",
      "metadata": {
        "id": "c5ca464d-64eb-4040-b9d9-b93324f9e1a6"
      },
      "outputs": [],
      "source": [
        "class ConvolutionalNetwork(nn.Module):\n",
        "\n",
        "    def __init__(self):\n",
        "        super().__init__()\n",
        "        self.conv1 = nn.Conv2d(1,6,3,1)\n",
        "        self.conv2 = nn.Conv2d(6,16,3,1)\n",
        "        self.fc1 = nn.Linear(5*5*16,120)\n",
        "        self.fc2 = nn.Linear(120,84)\n",
        "        self.fc3 = nn.Linear(84,10)\n",
        "\n",
        "    def forward(self, X):\n",
        "        X = F.relu(self.conv1(X))\n",
        "        X = F.max_pool2d(X, 2, 2)\n",
        "        X = F.relu(self.conv2(X))\n",
        "        X = F.max_pool2d(X, 2, 2)\n",
        "        X = X.view(-1, 5*5*16)\n",
        "        X = F.relu(self.fc1(X))\n",
        "        X = F.relu(self.fc2(X))\n",
        "        X = self.fc3(X)\n",
        "        return F.log_softmax(X, dim=1)\n"
      ]
    },
    {
      "cell_type": "code",
      "execution_count": 11,
      "id": "a4643c48-fed5-4efb-9f38-62cf7dc08366",
      "metadata": {
        "colab": {
          "base_uri": "https://localhost:8080/"
        },
        "id": "a4643c48-fed5-4efb-9f38-62cf7dc08366",
        "outputId": "1d276590-7299-414b-d31d-4176484be21a"
      },
      "outputs": [
        {
          "output_type": "execute_result",
          "data": {
            "text/plain": [
              "ConvolutionalNetwork(\n",
              "  (conv1): Conv2d(1, 6, kernel_size=(3, 3), stride=(1, 1))\n",
              "  (conv2): Conv2d(6, 16, kernel_size=(3, 3), stride=(1, 1))\n",
              "  (fc1): Linear(in_features=400, out_features=120, bias=True)\n",
              "  (fc2): Linear(in_features=120, out_features=84, bias=True)\n",
              "  (fc3): Linear(in_features=84, out_features=10, bias=True)\n",
              ")"
            ]
          },
          "metadata": {},
          "execution_count": 11
        }
      ],
      "source": [
        "torch.manual_seed(42)\n",
        "model = ConvolutionalNetwork()\n",
        "model"
      ]
    },
    {
      "cell_type": "code",
      "execution_count": 12,
      "id": "a68b9151-4cd2-4a59-96c1-d2e33481548d",
      "metadata": {
        "colab": {
          "base_uri": "https://localhost:8080/"
        },
        "id": "a68b9151-4cd2-4a59-96c1-d2e33481548d",
        "outputId": "3c35222f-038a-48c7-bfdf-b865abac8f3f"
      },
      "outputs": [
        {
          "output_type": "stream",
          "name": "stdout",
          "text": [
            "54\n",
            "6\n",
            "864\n",
            "16\n",
            "48000\n",
            "120\n",
            "10080\n",
            "84\n",
            "840\n",
            "10\n"
          ]
        }
      ],
      "source": [
        "for param in model.parameters():\n",
        "    print(param.numel())"
      ]
    },
    {
      "cell_type": "code",
      "execution_count": 13,
      "id": "7e106650-5d70-4b16-b935-169c7c11cdce",
      "metadata": {
        "id": "7e106650-5d70-4b16-b935-169c7c11cdce"
      },
      "outputs": [],
      "source": [
        "criterion = nn.CrossEntropyLoss()\n",
        "optimizer = torch.optim.Adam(model.parameters(), lr=0.001)"
      ]
    },
    {
      "cell_type": "code",
      "execution_count": 30,
      "id": "ccb0dfb5-f694-44c3-9fa3-33ac58c72da0",
      "metadata": {
        "colab": {
          "base_uri": "https://localhost:8080/"
        },
        "id": "ccb0dfb5-f694-44c3-9fa3-33ac58c72da0",
        "outputId": "615f5383-7986-4778-c470-273256290bfd"
      },
      "outputs": [
        {
          "output_type": "stream",
          "name": "stdout",
          "text": [
            "epoch: 0  batch: 600 loss: 0.00010107438720297068\n",
            "epoch: 0  batch: 1200 loss: 0.0011796795297414064\n",
            "epoch: 0  batch: 1800 loss: 0.42139530181884766\n",
            "epoch: 0  batch: 2400 loss: 1.1253188858972862e-05\n",
            "epoch: 0  batch: 3000 loss: 0.00012329428864177316\n",
            "epoch: 0  batch: 3600 loss: 0.0053987205028533936\n",
            "epoch: 0  batch: 4200 loss: 5.9696623793570325e-05\n",
            "epoch: 0  batch: 4800 loss: 0.0004850329423788935\n",
            "epoch: 0  batch: 5400 loss: 0.00067618687171489\n",
            "epoch: 0  batch: 6000 loss: 6.880154251120985e-05\n",
            "epoch: 1  batch: 600 loss: 0.004019369371235371\n",
            "epoch: 1  batch: 1200 loss: 0.17478331923484802\n",
            "epoch: 1  batch: 1800 loss: 4.801890827366151e-05\n",
            "epoch: 1  batch: 2400 loss: 1.0478293916094117e-05\n",
            "epoch: 1  batch: 3000 loss: 8.404113941651303e-06\n",
            "epoch: 1  batch: 3600 loss: 3.9324200770352036e-05\n",
            "epoch: 1  batch: 4200 loss: 0.00547025166451931\n",
            "epoch: 1  batch: 4800 loss: 0.009053158573806286\n",
            "epoch: 1  batch: 5400 loss: 0.025317559018731117\n",
            "epoch: 1  batch: 6000 loss: 0.00024913533707149327\n",
            "epoch: 2  batch: 600 loss: 0.019309189170598984\n",
            "epoch: 2  batch: 1200 loss: 0.0414918027818203\n",
            "epoch: 2  batch: 1800 loss: 3.8384705476346426e-06\n",
            "epoch: 2  batch: 2400 loss: 0.003806954249739647\n",
            "epoch: 2  batch: 3000 loss: 6.165351078379899e-05\n",
            "epoch: 2  batch: 3600 loss: 0.0020053458865731955\n",
            "epoch: 2  batch: 4200 loss: 7.474281119357329e-06\n",
            "epoch: 2  batch: 4800 loss: 0.008473226800560951\n",
            "epoch: 2  batch: 5400 loss: 1.6497939213877544e-05\n",
            "epoch: 2  batch: 6000 loss: 2.3910684831207618e-05\n",
            "epoch: 3  batch: 600 loss: 0.0016670429613441229\n",
            "epoch: 3  batch: 1200 loss: 2.193219006585423e-05\n",
            "epoch: 3  batch: 1800 loss: 2.4318546820722986e-06\n",
            "epoch: 3  batch: 2400 loss: 7.199188985396177e-05\n",
            "epoch: 3  batch: 3000 loss: 0.005212415941059589\n",
            "epoch: 3  batch: 3600 loss: 1.9203260308131576e-05\n",
            "epoch: 3  batch: 4200 loss: 4.383558552945033e-05\n",
            "epoch: 3  batch: 4800 loss: 0.009963302873075008\n",
            "epoch: 3  batch: 5400 loss: 0.00022435262508224696\n",
            "epoch: 3  batch: 6000 loss: 0.0022329308558255434\n",
            "epoch: 4  batch: 600 loss: 8.353708835784346e-05\n",
            "epoch: 4  batch: 1200 loss: 4.5053027861285955e-05\n",
            "epoch: 4  batch: 1800 loss: 1.2432756193447858e-05\n",
            "epoch: 4  batch: 2400 loss: 0.46045422554016113\n",
            "epoch: 4  batch: 3000 loss: 0.0013923847582191229\n",
            "epoch: 4  batch: 3600 loss: 5.769669769506436e-06\n",
            "epoch: 4  batch: 4200 loss: 5.960463766996327e-08\n",
            "epoch: 4  batch: 4800 loss: 2.9205850751168327e-06\n",
            "epoch: 4  batch: 5400 loss: 6.20837599853985e-05\n",
            "epoch: 4  batch: 6000 loss: 0.0805617943406105\n",
            "Training took 4.112633144855499 minutes\n"
          ]
        }
      ],
      "source": [
        "import time\n",
        "start_time = time.time()\n",
        "\n",
        "# Variables ( Trackers)\n",
        "epochs = 5\n",
        "train_losses = []\n",
        "test_losses = []\n",
        "train_correct = []\n",
        "test_correct = []\n",
        "\n",
        "# for loop epochs\n",
        "for i in range(epochs):\n",
        "\n",
        "    trn_corr = 0\n",
        "    tst_corr = 0\n",
        "\n",
        "\n",
        "    # Run the training batches\n",
        "    for b, (X_train, y_train) in enumerate(train_loader):\n",
        "        b+=1\n",
        "\n",
        "        # Apply the model\n",
        "        y_pred = model(X_train)  # we not flatten X-train here\n",
        "        loss = criterion(y_pred, y_train)\n",
        "\n",
        "\n",
        "        predicted = torch.max(y_pred.data, 1)[1]\n",
        "        batch_corr = (predicted == y_train).sum()  # Trure 1 / False 0 sum()\n",
        "        trn_corr += batch_corr\n",
        "\n",
        "        # Update parameters\n",
        "        optimizer.zero_grad()\n",
        "        loss.backward()\n",
        "        optimizer.step()\n",
        "\n",
        "        # Print interim results\n",
        "        if b%600 == 0:\n",
        "            print(f'epoch: {i}  batch: {b} loss: {loss.item()}')\n",
        "\n",
        "    # Detach the loss tensor before appending to the list\n",
        "    train_losses.append(loss.detach())\n",
        "    train_correct.append(trn_corr)\n",
        "\n",
        "    # Run the testing batches\n",
        "    with torch.no_grad():\n",
        "        for b, (X_test, y_test) in enumerate(test_loader):\n",
        "\n",
        "            # Apply the model\n",
        "            y_val = model(X_test)\n",
        "\n",
        "            # Tally the number of correct predictions\n",
        "            predicted = torch.max(y_val.data, 1)[1]\n",
        "            tst_corr += (predicted == y_test).sum()\n",
        "\n",
        "    # Calculate the loss for the test batch within the no_grad context\n",
        "    test_loss = criterion(y_val, y_test)\n",
        "    # Detach the test_loss tensor before appending to the list\n",
        "    test_losses.append(test_loss.detach())\n",
        "    test_correct.append(tst_corr)\n",
        "\n",
        "current_time = time.time()\n",
        "total = current_time - start_time\n",
        "print(f'Training took {total/60} minutes')"
      ]
    },
    {
      "cell_type": "code",
      "execution_count": 41,
      "id": "99682f26-be00-46d2-8d7d-c91e81bff560",
      "metadata": {
        "colab": {
          "base_uri": "https://localhost:8080/",
          "height": 452
        },
        "id": "99682f26-be00-46d2-8d7d-c91e81bff560",
        "outputId": "dc6349fb-2830-4c66-992a-3b609cf4905f"
      },
      "outputs": [
        {
          "output_type": "display_data",
          "data": {
            "text/plain": [
              "<Figure size 640x480 with 1 Axes>"
            ],
            "image/png": "[encoded data removed]"
          },
          "metadata": {}
        }
      ],
      "source": [
        "plt.plot(train_losses, label='training loss')\n",
        "plt.plot(test_losses, label='validation loss')\n",
        "plt.title('Loss at the end of each epoch')\n",
        "plt.legend()\n",
        "plt.show()"
      ]
    },
    {
      "cell_type": "code",
      "execution_count": 42,
      "id": "1222c585-875d-47ce-bf86-3d76931ed6ce",
      "metadata": {
        "colab": {
          "base_uri": "https://localhost:8080/",
          "height": 452
        },
        "id": "1222c585-875d-47ce-bf86-3d76931ed6ce",
        "outputId": "279605d4-32ba-4df1-af95-e7b6f89bb207"
      },
      "outputs": [
        {
          "output_type": "display_data",
          "data": {
            "text/plain": [
              "<Figure size 640x480 with 1 Axes>"
            ],
            "image/png": "[encoded data removed]"
          },
          "metadata": {}
        }
      ],
      "source": [
        "plt.plot([t/600 for t in train_correct], label='training accuracy')\n",
        "plt.plot([t/100 for t in test_correct], label='validation accuracy')\n",
        "plt.title('Accuracy at the end of each epoch')\n",
        "plt.legend();\n",
        "plt.show()"
      ]
    },
    {
      "cell_type": "code",
      "execution_count": 43,
      "id": "9ca09762-610f-4caf-b9d2-ca519d147caf",
      "metadata": {
        "id": "9ca09762-610f-4caf-b9d2-ca519d147caf"
      },
      "outputs": [],
      "source": [
        "# Extract the data all at once, not in batches\n",
        "test_load_all = DataLoader(test_data, batch_size=10000, shuffle=False)"
      ]
    },
    {
      "cell_type": "code",
      "execution_count": 44,
      "id": "5a5cbe1d-d8e0-49f3-8653-215335c4b17f",
      "metadata": {
        "id": "5a5cbe1d-d8e0-49f3-8653-215335c4b17f"
      },
      "outputs": [],
      "source": [
        "with torch.no_grad():\n",
        "    correct = 0\n",
        "    for X_test, y_test in test_load_all:\n",
        "        y_val = model(X_test)  # we don't flatten the data this time\n",
        "        predicted = torch.max(y_val,1)[1]\n",
        "        correct += (predicted == y_test).sum()\n"
      ]
    },
    {
      "cell_type": "code",
      "execution_count": 45,
      "id": "d3df19d7-b57c-4e2a-b7ab-1287b399a686",
      "metadata": {
        "colab": {
          "base_uri": "https://localhost:8080/"
        },
        "id": "d3df19d7-b57c-4e2a-b7ab-1287b399a686",
        "outputId": "e9d0090f-eb29-44fd-bc38-1922cb9906ee"
      },
      "outputs": [
        {
          "output_type": "stream",
          "name": "stdout",
          "text": [
            "[[   0    1    2    3    4    5    6    7    8    9]]\n",
            "\n",
            "[[ 975    0    1    0    0    0    6    0    2    0]\n",
            " [   0 1107    0    0    0    0    2    1    0    0]\n",
            " [   0    1 1012    1    0    0    1    1    0    0]\n",
            " [   0    1    4 1004    0    8    0    0    3    5]\n",
            " [   0    0    1    0  960    0    2    0    0    0]\n",
            " [   0    1    0    2    0  882   12    0    2    7]\n",
            " [   1    2    0    0    5    1  931    0    0    0]\n",
            " [   1    5   11    0    2    0    0 1021    2    5]\n",
            " [   3   17    3    2    2    1    4    0  963    1]\n",
            " [   0    1    0    1   13    0    0    5    2  991]]\n"
          ]
        }
      ],
      "source": [
        "# print a row of values for reference\n",
        "np.set_printoptions(formatter=dict(int=lambda x: f'{x:4}'))\n",
        "print(np.arange(10).reshape(1,10))\n",
        "print()\n",
        "\n",
        "# print the confusion matrix\n",
        "print(confusion_matrix(predicted.view(-1), y_test.view(-1)))"
      ]
    },
    {
      "cell_type": "code",
      "execution_count": 46,
      "id": "16a0411c-0071-4242-8df6-6f219ef669e4",
      "metadata": {
        "colab": {
          "base_uri": "https://localhost:8080/",
          "height": 430
        },
        "id": "16a0411c-0071-4242-8df6-6f219ef669e4",
        "outputId": "43cb06d3-d7ea-463f-8d16-600524ad8d61"
      },
      "outputs": [
        {
          "output_type": "display_data",
          "data": {
            "text/plain": [
              "<Figure size 640x480 with 1 Axes>"
            ],
            "image/png": "[encoded data removed]"
          },
          "metadata": {}
        }
      ],
      "source": [
        "# single image for test\n",
        "plt.imshow(test_data[2019][0].reshape(28,28))\n",
        "plt.show()"
      ]
    },
    {
      "cell_type": "code",
      "execution_count": 47,
      "id": "086e1f99-008f-4883-a7e5-bd3b048dc499",
      "metadata": {
        "id": "086e1f99-008f-4883-a7e5-bd3b048dc499"
      },
      "outputs": [],
      "source": [
        "model.eval()\n",
        "with torch.no_grad():\n",
        "    new_prediction = model(test_data[2019][0].view(1,1,28,28))"
      ]
    },
    {
      "cell_type": "code",
      "execution_count": 48,
      "id": "1be437fb-d683-44da-baba-36b9a2ed689d",
      "metadata": {
        "colab": {
          "base_uri": "https://localhost:8080/"
        },
        "id": "1be437fb-d683-44da-baba-36b9a2ed689d",
        "outputId": "8b76342c-a729-44b6-a10b-c6e884976340"
      },
      "outputs": [
        {
          "output_type": "execute_result",
          "data": {
            "text/plain": [
              "tensor(9)"
            ]
          },
          "metadata": {},
          "execution_count": 48
        }
      ],
      "source": [
        "new_prediction.argmax()"
      ]
    },
    {
      "cell_type": "code",
      "execution_count": 49,
      "id": "fb040c87-5055-48cc-b377-31f8b164a2d2",
      "metadata": {
        "id": "fb040c87-5055-48cc-b377-31f8b164a2d2"
      },
      "outputs": [],
      "source": [
        "torch.save(model.state_dict(), 'roghith212222040135.pt')"
      ]
    },
    {
      "cell_type": "code",
      "source": [
        "new_model = ConvolutionalNetwork() # Replace Model with ConvolutionalNetwork\n",
        "new_model.eval()\n"
      ],
      "metadata": {
        "colab": {
          "base_uri": "https://localhost:8080/"
        },
        "id": "uvnUf3ECc2o9",
        "outputId": "c5007eaf-5742-407e-e092-8f3c4726995b"
      },
      "id": "uvnUf3ECc2o9",
      "execution_count": 51,
      "outputs": [
        {
          "output_type": "execute_result",
          "data": {
            "text/plain": [
              "ConvolutionalNetwork(\n",
              "  (conv1): Conv2d(1, 6, kernel_size=(3, 3), stride=(1, 1))\n",
              "  (conv2): Conv2d(6, 16, kernel_size=(3, 3), stride=(1, 1))\n",
              "  (fc1): Linear(in_features=400, out_features=120, bias=True)\n",
              "  (fc2): Linear(in_features=120, out_features=84, bias=True)\n",
              "  (fc3): Linear(in_features=84, out_features=10, bias=True)\n",
              ")"
            ]
          },
          "metadata": {},
          "execution_count": 51
        }
      ]
    },
    {
      "cell_type": "markdown",
      "source": [
        "ROGHITH K\n",
        "\n",
        "212222040135"
      ],
      "metadata": {
        "id": "33p1p9N1c_rU"
      },
      "id": "33p1p9N1c_rU"
    }
  ],
  "metadata": {
    "kernelspec": {
      "display_name": "Python 3 (ipykernel)",
      "language": "python",
      "name": "python3"
    },
    "language_info": {
      "codemirror_mode": {
        "name": "ipython",
        "version": 3
      },
      "file_extension": ".py",
      "mimetype": "text/x-python",
      "name": "python",
      "nbconvert_exporter": "python",
      "pygments_lexer": "ipython3",
      "version": "3.12.2"
    },
    "colab": {
      "provenance": []
    }
  },
  "nbformat": 4,
  "nbformat_minor": 5
}